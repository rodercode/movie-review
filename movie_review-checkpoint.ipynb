{
 "cells": [
  {
   "cell_type": "code",
   "execution_count": 1,
   "id": "cd7bd71d",
   "metadata": {},
   "outputs": [],
   "source": [
    "import numpy as np\n",
    "import pandas as pd\n",
    "import matplotlib.pyplot as plt\n",
    "import seaborn as sns\n",
    "\n",
    "from collections import Counter\n",
    "from sklearn.feature_extraction.text import CountVectorizer \n",
    "from sklearn.model_selection import train_test_split \n",
    "from sklearn.naive_bayes import MultinomialNB\n",
    "from sklearn.metrics import accuracy_score"
   ]
  },
  {
   "cell_type": "code",
   "execution_count": 2,
   "id": "7cde5767",
   "metadata": {},
   "outputs": [
    {
     "data": {
      "text/html": [
       "<div>\n",
       "<style scoped>\n",
       "    .dataframe tbody tr th:only-of-type {\n",
       "        vertical-align: middle;\n",
       "    }\n",
       "\n",
       "    .dataframe tbody tr th {\n",
       "        vertical-align: top;\n",
       "    }\n",
       "\n",
       "    .dataframe thead th {\n",
       "        text-align: right;\n",
       "    }\n",
       "</style>\n",
       "<table border=\"1\" class=\"dataframe\">\n",
       "  <thead>\n",
       "    <tr style=\"text-align: right;\">\n",
       "      <th></th>\n",
       "      <th>review</th>\n",
       "      <th>sentiment</th>\n",
       "    </tr>\n",
       "  </thead>\n",
       "  <tbody>\n",
       "    <tr>\n",
       "      <th>0</th>\n",
       "      <td>One of the other reviewers has mentioned that ...</td>\n",
       "      <td>positive</td>\n",
       "    </tr>\n",
       "    <tr>\n",
       "      <th>1</th>\n",
       "      <td>A wonderful little production. &lt;br /&gt;&lt;br /&gt;The...</td>\n",
       "      <td>positive</td>\n",
       "    </tr>\n",
       "    <tr>\n",
       "      <th>2</th>\n",
       "      <td>I thought this was a wonderful way to spend ti...</td>\n",
       "      <td>positive</td>\n",
       "    </tr>\n",
       "    <tr>\n",
       "      <th>3</th>\n",
       "      <td>Basically there's a family where a little boy ...</td>\n",
       "      <td>negative</td>\n",
       "    </tr>\n",
       "    <tr>\n",
       "      <th>4</th>\n",
       "      <td>Petter Mattei's \"Love in the Time of Money\" is...</td>\n",
       "      <td>positive</td>\n",
       "    </tr>\n",
       "  </tbody>\n",
       "</table>\n",
       "</div>"
      ],
      "text/plain": [
       "                                              review sentiment\n",
       "0  One of the other reviewers has mentioned that ...  positive\n",
       "1  A wonderful little production. <br /><br />The...  positive\n",
       "2  I thought this was a wonderful way to spend ti...  positive\n",
       "3  Basically there's a family where a little boy ...  negative\n",
       "4  Petter Mattei's \"Love in the Time of Money\" is...  positive"
      ]
     },
     "execution_count": 2,
     "metadata": {},
     "output_type": "execute_result"
    }
   ],
   "source": [
    "# Loading csv file to a dataframe \n",
    "df_reviews = pd.read_csv('IMDB Dataset.csv')\n",
    "\n",
    "# Display the first five lines of df\n",
    "df_reviews.head()"
   ]
  },
  {
   "cell_type": "code",
   "execution_count": 3,
   "id": "a3ee8ba4",
   "metadata": {},
   "outputs": [
    {
     "name": "stdout",
     "output_type": "stream",
     "text": [
      "classes are evenly distributed\n"
     ]
    },
    {
     "data": {
      "image/png": "[encoded data removed]",
      "text/plain": [
       "<Figure size 640x480 with 1 Axes>"
      ]
     },
     "metadata": {},
     "output_type": "display_data"
    }
   ],
   "source": [
    "# Display count plot to see if pos and neg samples are distributed evenly\n",
    "sns.countplot(x=df_reviews['sentiment'])\n",
    "print(\"classes are evenly distributed\")"
   ]
  },
  {
   "cell_type": "code",
   "execution_count": 4,
   "id": "f9277646",
   "metadata": {},
   "outputs": [
    {
     "data": {
      "text/html": [
       "<div>\n",
       "<style scoped>\n",
       "    .dataframe tbody tr th:only-of-type {\n",
       "        vertical-align: middle;\n",
       "    }\n",
       "\n",
       "    .dataframe tbody tr th {\n",
       "        vertical-align: top;\n",
       "    }\n",
       "\n",
       "    .dataframe thead th {\n",
       "        text-align: right;\n",
       "    }\n",
       "</style>\n",
       "<table border=\"1\" class=\"dataframe\">\n",
       "  <thead>\n",
       "    <tr style=\"text-align: right;\">\n",
       "      <th></th>\n",
       "      <th>review</th>\n",
       "      <th>label</th>\n",
       "    </tr>\n",
       "  </thead>\n",
       "  <tbody>\n",
       "    <tr>\n",
       "      <th>0</th>\n",
       "      <td>One of the other reviewers has mentioned that ...</td>\n",
       "      <td>1</td>\n",
       "    </tr>\n",
       "    <tr>\n",
       "      <th>1</th>\n",
       "      <td>A wonderful little production. &lt;br /&gt;&lt;br /&gt;The...</td>\n",
       "      <td>1</td>\n",
       "    </tr>\n",
       "    <tr>\n",
       "      <th>2</th>\n",
       "      <td>I thought this was a wonderful way to spend ti...</td>\n",
       "      <td>1</td>\n",
       "    </tr>\n",
       "    <tr>\n",
       "      <th>3</th>\n",
       "      <td>Basically there's a family where a little boy ...</td>\n",
       "      <td>0</td>\n",
       "    </tr>\n",
       "    <tr>\n",
       "      <th>4</th>\n",
       "      <td>Petter Mattei's \"Love in the Time of Money\" is...</td>\n",
       "      <td>1</td>\n",
       "    </tr>\n",
       "  </tbody>\n",
       "</table>\n",
       "</div>"
      ],
      "text/plain": [
       "                                              review  label\n",
       "0  One of the other reviewers has mentioned that ...      1\n",
       "1  A wonderful little production. <br /><br />The...      1\n",
       "2  I thought this was a wonderful way to spend ti...      1\n",
       "3  Basically there's a family where a little boy ...      0\n",
       "4  Petter Mattei's \"Love in the Time of Money\" is...      1"
      ]
     },
     "execution_count": 4,
     "metadata": {},
     "output_type": "execute_result"
    }
   ],
   "source": [
    "# Rename sentiment column to label\n",
    "df_reviews = df_reviews.rename(columns={'sentiment':'label'})\n",
    "\n",
    "# Replace positive and negative to ones and zeros, so the algorithm can read it\n",
    "df_reviews['label'] = df_reviews['label'].replace({'positive': 1, 'negative': 0})\n",
    "\n",
    "\n",
    "# Display the change\n",
    "df_reviews.head()"
   ]
  },
  {
   "cell_type": "code",
   "execution_count": 5,
   "id": "a260225b",
   "metadata": {},
   "outputs": [
    {
     "data": {
      "text/plain": [
       "'A wonderful little production. <br /><br />The filming technique is very unassuming- very old-time-BBC fashion and gives a comforting, and sometimes discomforting, sense of realism to the entire piece. <br /><br />The actors are extremely well chosen- Michael Sheen not only \"has got all the polari\" but he has all the voices down pat too! You can truly see the seamless editing guided by the references to Williams\\' diary entries, not only is it well worth the watching but it is a terrificly written and performed piece. A masterful production about one of the great master\\'s of comedy and his life. <br /><br />The realism really comes home with the little things: the fantasy of the guard which, rather than use the traditional \\'dream\\' techniques remains solid then disappears. It plays on our knowledge and our senses, particularly with the scenes concerning Orton and Halliwell and the sets (particularly of their flat with Halliwell\\'s murals decorating every surface) are terribly well done.'"
      ]
     },
     "execution_count": 5,
     "metadata": {},
     "output_type": "execute_result"
    }
   ],
   "source": [
    "# Display only one review to see if there are any special chars\n",
    "df_reviews['review'][1]\n",
    "\n",
    "# Here we can see that we need to remove unnecessary characters to improve model's performance"
   ]
  },
  {
   "cell_type": "code",
   "execution_count": 6,
   "id": "2a47fa6e",
   "metadata": {},
   "outputs": [
    {
     "data": {
      "text/plain": [
       "\"I thought this was a wonderful way to spend time on a too hot summer weekend, sitting in the air conditioned theater and watching a light-hearted comedy. The plot is simplistic, but the dialogue is witty and the characters are likable (even the well bread suspected serial killer). While some may be disappointed when they realize this is not Match Point 2: Risk Addiction, I thought it was proof that Woody Allen is still fully in control of the style many of us have grown to love.This was the most I'd laughed at one of Woody's comedies in years (dare I say a decade?). While I've never been impressed with Scarlet Johanson, in this she managed to tone down her sexy image and jumped right into a average, but spirited young woman.This may not be the crown jewel of his career, but it was wittier than Devil Wears Prada and more interesting than Superman a great comedy to go see with friends.\""
      ]
     },
     "execution_count": 6,
     "metadata": {},
     "output_type": "execute_result"
    }
   ],
   "source": [
    "# Replace <br /><br /> to empty string\n",
    "df_reviews['review'] = df_reviews['review'].str.replace(\"<br /><br />\", '')\n",
    "\n",
    "# Replace \\ to empty string\n",
    "df_reviews['review'] = df_reviews['review'].str.replace(\"\\\"\", '')\n",
    "\n",
    "# Display the change\n",
    "df_reviews['review'][2]"
   ]
  },
  {
   "cell_type": "code",
   "execution_count": 7,
   "id": "011ab986",
   "metadata": {},
   "outputs": [],
   "source": [
    "# Separate data to two arrays\n",
    "x = np.array(df_reviews['review'])\n",
    "y = np.array(df_reviews['label'])"
   ]
  },
  {
   "cell_type": "code",
   "execution_count": 8,
   "id": "a9703dce",
   "metadata": {},
   "outputs": [
    {
     "name": "stdout",
     "output_type": "stream",
     "text": [
      "total reviews: 50000\n",
      "total words: 11355349\n"
     ]
    }
   ],
   "source": [
    "# Create a list of words\n",
    "words = []\n",
    "\n",
    "# Create list of reviews\n",
    "review_list = list(df_reviews[\"review\"])\n",
    "\n",
    "# Add all words from each review to words\n",
    "for review in review_list:\n",
    "    words += review.split(' ')\n",
    "    \n",
    "\n",
    "# Display total amout of words and reviews  \n",
    "print(\"total reviews:\", len(review_list))\n",
    "print(\"total words:\", len(words))"
   ]
  },
  {
   "cell_type": "code",
   "execution_count": 9,
   "id": "03e40035",
   "metadata": {},
   "outputs": [],
   "source": [
    "# Pick the most 10 common words \n",
    "counter_words = Counter(words)\n",
    "common_words = counter_words.most_common(10)\n",
    "\n",
    "# Create DataFrame for the most common words\n",
    "df =pd.DataFrame(common_words, columns=('common', 'counts'))\n",
    "\n",
    "word_list = [word_tuple[0] for word_tuple in common_words]\n",
    "\n",
    "# List of how frequently the 10 most words appears\n",
    "counts = []\n",
    "\n",
    "# Add how frequently one of the 10 most words appears\n",
    "for i in range(9):\n",
    "    counts.append(words.count(word_list[i]))"
   ]
  },
  {
   "cell_type": "code",
   "execution_count": 10,
   "id": "aaa00bd6",
   "metadata": {},
   "outputs": [
    {
     "data": {
      "text/plain": [
       "<AxesSubplot:ylabel='common'>"
      ]
     },
     "execution_count": 10,
     "metadata": {},
     "output_type": "execute_result"
    },
    {
     "data": {
      "image/png": "[encoded data removed]",
      "text/plain": [
       "<Figure size 640x480 with 1 Axes>"
      ]
     },
     "metadata": {},
     "output_type": "display_data"
    }
   ],
   "source": [
    "# Barh plot show us how much there is of the most most common words in the dataset\n",
    "df.plot(x=\"common\", y=\"counts\", kind=\"barh\")"
   ]
  },
  {
   "cell_type": "code",
   "execution_count": 11,
   "id": "9e88319c",
   "metadata": {},
   "outputs": [],
   "source": [
    "# As you can see, these are ten most common that doesn't improve the model's accuracy and performance.\n",
    "# They only take unnecessary space, increase model's processing time and reduce model's accuracy.\n",
    "# To deal with this problem we can implement a stop word that will ignore common words like those above.\n",
    "# Unfortunately I was not able to implement a “stop words”"
   ]
  },
  {
   "cell_type": "code",
   "execution_count": 12,
   "id": "da5abe14",
   "metadata": {},
   "outputs": [],
   "source": [
    "# Vectorization texts to numerical values\n",
    "cv = CountVectorizer()\n",
    "X = cv.fit_transform(x)"
   ]
  },
  {
   "cell_type": "code",
   "execution_count": 13,
   "id": "4bdc2691",
   "metadata": {},
   "outputs": [
    {
     "name": "stdout",
     "output_type": "stream",
     "text": [
      "total: 50000 reviews\n",
      "train: 35000 reviews\n",
      "test: 15000 reviews\n"
     ]
    }
   ],
   "source": [
    "# Split the data into 70%  train and 30% to test datasets \n",
    "X_train, X_test, Y_train, Y_test = train_test_split(X, y, random_state=42,  test_size = 0.3)\n",
    "\n",
    "# Display amount of samples for each dataset\n",
    "print(f\"total: {len(y)} reviews\")\n",
    "print(f\"train: {len(Y_train)} reviews\")\n",
    "print(f\"test: {len(Y_test)} reviews\")"
   ]
  },
  {
   "cell_type": "code",
   "execution_count": 14,
   "id": "ee48bf4b",
   "metadata": {},
   "outputs": [
    {
     "name": "stdout",
     "output_type": "stream",
     "text": [
      "Accuracy 0.8488666666666667\n"
     ]
    }
   ],
   "source": [
    "# Naive Bayes\n",
    "nb_model = MultinomialNB()\n",
    "nb_model = nb_model.fit(X_train, Y_train)\n",
    "\n",
    "# Make prediction of test dataset\n",
    "y_pred = nb_model.predict(X_test)\n",
    "\n",
    "# Display how well the model performed\n",
    "print(f\"Accuracy\",accuracy_score(y_pred, Y_test))"
   ]
  },
  {
   "cell_type": "code",
   "execution_count": null,
   "id": "80fafff4",
   "metadata": {},
   "outputs": [],
   "source": []
  }
 ],
 "metadata": {
  "kernelspec": {
   "display_name": "Python 3 (ipykernel)",
   "language": "python",
   "name": "python3"
  },
  "language_info": {
   "codemirror_mode": {
    "name": "ipython",
    "version": 3
   },
   "file_extension": ".py",
   "mimetype": "text/x-python",
   "name": "python",
   "nbconvert_exporter": "python",
   "pygments_lexer": "ipython3",
   "version": "3.9.13"
  }
 },
 "nbformat": 4,
 "nbformat_minor": 5
}
